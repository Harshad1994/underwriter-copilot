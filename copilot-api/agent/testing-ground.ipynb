{
 "cells": [
  {
   "cell_type": "code",
   "execution_count": 3,
   "id": "de665d56",
   "metadata": {},
   "outputs": [],
   "source": [
    "from langgraph.graph import StateGraph\n",
    "from langgraph.graph import MessagesState\n",
    "from langgraph.graph.message import add_messages\n",
    "from langchain_core.messages import BaseMessage\n",
    "\n",
    "import operator\n",
    "\n",
    "from pydantic import BaseModel, Field"
   ]
  },
  {
   "cell_type": "code",
   "execution_count": 48,
   "id": "8da1eed6",
   "metadata": {},
   "outputs": [],
   "source": [
    "from typing import Annotated, Optional, Sequence, List, Literal, TypedDict"
   ]
  },
  {
   "cell_type": "code",
   "execution_count": 5,
   "id": "d74fc4d5",
   "metadata": {},
   "outputs": [],
   "source": [
    "from prompts import transform_messages_into_research_topic_prompt, clarify_with_user_instructions"
   ]
  },
  {
   "cell_type": "markdown",
   "id": "0b839d78",
   "metadata": {},
   "source": [
    "## Define States"
   ]
  },
  {
   "cell_type": "code",
   "execution_count": 6,
   "id": "93674c83",
   "metadata": {},
   "outputs": [],
   "source": [
    "class AgentInputState(MessagesState):\n",
    "    \"\"\"Input state for the full agent - only contains messages from the user input\"\"\"\n",
    "    pass"
   ]
  },
  {
   "cell_type": "code",
   "execution_count": 7,
   "id": "4c2c9b97",
   "metadata": {},
   "outputs": [],
   "source": [
    "class AgentState(MessagesState):\n",
    "    \"\"\"Main state for the full agent research system\n",
    "    \n",
    "    We have additional fields for research coordination\"\"\"\n",
    "\n",
    "    research_brief: Optional[str]\n",
    "    supervisor_messages: Annotated[Sequence[BaseMessage], add_messages]\n",
    "    raw_notes: Annotated[list[str], operator.add] = []\n",
    "    notes: Annotated[list[str], operator.add] = []\n",
    "    final_report: str\n"
   ]
  },
  {
   "cell_type": "code",
   "execution_count": 49,
   "id": "4f133154",
   "metadata": {},
   "outputs": [],
   "source": [
    "class ResearcherState(TypedDict):\n",
    "    researcher_messages: Annotated[Sequence[BaseMessage], add_messages]\n",
    "    tool_call_iteration: int\n",
    "    research_topic: str\n",
    "    compressed_research: str\n",
    "    raw_notes: Annotated[List[str], operator.add]\n",
    "\n",
    "class ResearcherOutputState(TypedDict):\n",
    "    compressed_research:str\n",
    "    raw_notes: Annotated[List[str], operator.add]\n",
    "    researcher_messages: Annotated[Sequence[BaseMessage], add_messages]\n",
    "\n"
   ]
  },
  {
   "cell_type": "markdown",
   "id": "8e9160f9",
   "metadata": {},
   "source": [
    "## Structured Output Schemas"
   ]
  },
  {
   "cell_type": "code",
   "execution_count": 8,
   "id": "d3bf00df",
   "metadata": {},
   "outputs": [],
   "source": [
    "class ClarifyWithUser(BaseModel):\n",
    "    \"\"\"Schema for clarification decision and question\"\"\"\n",
    "    need_clarification: bool = Field(\n",
    "        description=\"Whether the user needs to be asked a clarifying questions\")\n",
    "    \n",
    "    question: str = Field(\n",
    "        description=\"A question to ask the user to clarify the report scope\")\n",
    "     \n",
    "    verification: str = Field(\n",
    "        description=\"Verify message that we will start research after the user has provided the necessary information.\",\n",
    "    )\n",
    "    \n"
   ]
  },
  {
   "cell_type": "code",
   "execution_count": 9,
   "id": "d19cc402",
   "metadata": {},
   "outputs": [],
   "source": [
    "class ResearchQuestion(BaseModel):\n",
    "    \"\"\"Schema for structured research brief generation\"\"\"\n",
    "    research_brief: str = Field(\n",
    "        description=\"A research question that would be used to guide the research\"\n",
    "    )"
   ]
  },
  {
   "cell_type": "code",
   "execution_count": 50,
   "id": "ca3ec428",
   "metadata": {},
   "outputs": [],
   "source": [
    "class Summary(BaseModel):\n",
    "    \"Schema for webpage content summarization\"\n",
    "    summary: str = Field(description=\"Consize summary of the webpage content\")\n",
    "    key_excerpts:str = Field(description=\"Important quotes and excerpts from the content\")"
   ]
  },
  {
   "cell_type": "code",
   "execution_count": 11,
   "id": "20fa65a3",
   "metadata": {},
   "outputs": [],
   "source": [
    "import os\n",
    "from dotenv import load_dotenv\n",
    "\n",
    "_ = load_dotenv()\n",
    "\n",
    "# from langchain_openai import ChatOpenAI\n",
    "# openai_model = ChatOpenAI(model= 'gpt-4o', temperature=0.0)\n",
    "\n",
    "from langchain_groq import ChatGroq\n",
    "\n",
    "model = ChatGroq(model='llama-3.3-70b-versatile', \n",
    "                 api_key=os.environ.get(\"GROQ_API_KEY\"),\n",
    "                 temperature=0.0)"
   ]
  },
  {
   "cell_type": "code",
   "execution_count": 52,
   "id": "2277312a",
   "metadata": {},
   "outputs": [],
   "source": [
    "summarization_model = ChatGroq(model='groq/compound', \n",
    "                 api_key=os.environ.get(\"GROQ_API_KEY\"),\n",
    "                 temperature=0.0)"
   ]
  },
  {
   "cell_type": "markdown",
   "id": "e0f06bfa",
   "metadata": {},
   "source": [
    "## Start working on clarification node and reseach brief"
   ]
  },
  {
   "cell_type": "code",
   "execution_count": 12,
   "id": "72a49743",
   "metadata": {},
   "outputs": [],
   "source": [
    "from langchain_core.messages import AIMessage, HumanMessage, get_buffer_string\n",
    "\n",
    "from langgraph.graph import StateGraph, START, END\n",
    "\n",
    "from langgraph.types import Command, Interrupt"
   ]
  },
  {
   "cell_type": "markdown",
   "id": "0a672799",
   "metadata": {},
   "source": [
    "input - > check clarifying question -yes.  -> ask question\n",
    "                                    - no   -> generate brief"
   ]
  },
  {
   "cell_type": "code",
   "execution_count": 13,
   "id": "9acf72e3",
   "metadata": {},
   "outputs": [],
   "source": [
    "from datetime import datetime"
   ]
  },
  {
   "cell_type": "code",
   "execution_count": 14,
   "id": "5cceac50",
   "metadata": {},
   "outputs": [],
   "source": [
    "def get_today_str()->str:\n",
    "    return datetime.now().strftime(\"%a %b %-d, %Y\")"
   ]
  },
  {
   "cell_type": "code",
   "execution_count": 15,
   "id": "1cea46d7",
   "metadata": {},
   "outputs": [],
   "source": [
    "def clarify_with_user(state: AgentInputState) ->Command[Literal[\"write_research_brief\",\"__end__\"]]:\n",
    "    \n",
    "\n",
    "    structured_llm = model.with_structured_output(ClarifyWithUser)\n",
    "\n",
    "    prompt_ = clarify_with_user_instructions.format(messages=get_buffer_string(state['messages']), date=get_today_str())\n",
    "    response = structured_llm.invoke([HumanMessage(content=prompt_)])\n",
    "\n",
    "    if response.need_clarification:\n",
    "        return Command(goto=END,\n",
    "                       update={\"messages\":[AIMessage(content=response.question)]})\n",
    "    \n",
    "    else:\n",
    "        return Command(\n",
    "            goto=\"write_research_brief\",\n",
    "            update={\"messages\":[AIMessage(content=response.verification)]}\n",
    "        )\n",
    "\n",
    "\n",
    "    "
   ]
  },
  {
   "cell_type": "code",
   "execution_count": 16,
   "id": "c1a81ec7",
   "metadata": {},
   "outputs": [],
   "source": [
    "def write_research_brief(state:AgentState):\n",
    "    \"\"\"\n",
    "    Transform the conversation history into a comprehensive research brief\"\"\"\n",
    "\n",
    "    structured_output_model = model.with_structured_output(ResearchQuestion)\n",
    "\n",
    "    _prompt = transform_messages_into_research_topic_prompt.format(messages = get_buffer_string(state.get(\"messages\",[])),\n",
    "                                                                                              date=get_today_str()\n",
    "                                                                )\n",
    "    response = structured_output_model.invoke([HumanMessage(content=_prompt)])\n",
    "\n",
    "    return {\n",
    "        \"research_brief\":response.research_brief,\n",
    "        \"supervisor_messages\":[HumanMessage(content=f\"{response.research_brief}.\")]\n",
    "    }"
   ]
  },
  {
   "cell_type": "markdown",
   "id": "57e8936e",
   "metadata": {},
   "source": [
    "## Graph Construction"
   ]
  },
  {
   "cell_type": "code",
   "execution_count": 17,
   "id": "ef1ae532",
   "metadata": {},
   "outputs": [],
   "source": [
    "deep_researcher_builder = StateGraph(AgentState, input_schema=AgentInputState)\n",
    "\n",
    "deep_researcher_builder.add_node(\"clarify_with_user\", clarify_with_user)\n",
    "deep_researcher_builder.add_node(\"write_research_brief\", write_research_brief)\n",
    "\n",
    "deep_researcher_builder.add_edge(START, \"clarify_with_user\")\n",
    "deep_researcher_builder.add_edge(\"write_research_brief\", END)\n",
    "\n",
    "scope_research = deep_researcher_builder.compile()"
   ]
  },
  {
   "cell_type": "code",
   "execution_count": 18,
   "id": "18574e95",
   "metadata": {},
   "outputs": [
    {
     "data": {
      "image/png": "[encoded data removed]",
      "text/plain": [
       "<IPython.core.display.Image object>"
      ]
     },
     "metadata": {},
     "output_type": "display_data"
    }
   ],
   "source": [
    "# Compile with in-memory checkpointer to test in notebook\n",
    "from IPython.display import Image, display\n",
    "from langgraph.checkpoint.memory import InMemorySaver\n",
    "checkpointer = InMemorySaver()\n",
    "scope = deep_researcher_builder.compile(checkpointer=checkpointer)\n",
    "display(Image(scope.get_graph(xray=True).draw_mermaid_png()))"
   ]
  },
  {
   "cell_type": "code",
   "execution_count": 19,
   "id": "c8354483",
   "metadata": {},
   "outputs": [
    {
     "data": {
      "text/html": [
       "<pre style=\"white-space:pre;overflow-x:auto;line-height:normal;font-family:Menlo,'DejaVu Sans Mono',consolas,'Courier New',monospace\"><span style=\"color: #000080; text-decoration-color: #000080\">╭─────────────────────────────────────────────────── 🧑 Human ────────────────────────────────────────────────────╮</span>\n",
       "<span style=\"color: #000080; text-decoration-color: #000080\">│</span> I want to research the best coffee shops in San Francisco.                                                      <span style=\"color: #000080; text-decoration-color: #000080\">│</span>\n",
       "<span style=\"color: #000080; text-decoration-color: #000080\">╰─────────────────────────────────────────────────────────────────────────────────────────────────────────────────╯</span>\n",
       "</pre>\n"
      ],
      "text/plain": [
       "\u001b[34m╭─\u001b[0m\u001b[34m──────────────────────────────────────────────────\u001b[0m\u001b[34m 🧑 Human \u001b[0m\u001b[34m───────────────────────────────────────────────────\u001b[0m\u001b[34m─╮\u001b[0m\n",
       "\u001b[34m│\u001b[0m I want to research the best coffee shops in San Francisco.                                                      \u001b[34m│\u001b[0m\n",
       "\u001b[34m╰─────────────────────────────────────────────────────────────────────────────────────────────────────────────────╯\u001b[0m\n"
      ]
     },
     "metadata": {},
     "output_type": "display_data"
    },
    {
     "data": {
      "text/html": [
       "<pre style=\"white-space:pre;overflow-x:auto;line-height:normal;font-family:Menlo,'DejaVu Sans Mono',consolas,'Courier New',monospace\"><span style=\"color: #c0c0c0; text-decoration-color: #c0c0c0\">╭───────────────────────────────────────────────────── 📝 AI ─────────────────────────────────────────────────────╮</span>\n",
       "<span style=\"color: #c0c0c0; text-decoration-color: #c0c0c0\">│</span> I have sufficient information to proceed. I understand that you want to research the best coffee shops in San   <span style=\"color: #c0c0c0; text-decoration-color: #c0c0c0\">│</span>\n",
       "<span style=\"color: #c0c0c0; text-decoration-color: #c0c0c0\">│</span> Francisco. I will now begin the research process to provide you with the desired information.                   <span style=\"color: #c0c0c0; text-decoration-color: #c0c0c0\">│</span>\n",
       "<span style=\"color: #c0c0c0; text-decoration-color: #c0c0c0\">╰─────────────────────────────────────────────────────────────────────────────────────────────────────────────────╯</span>\n",
       "</pre>\n"
      ],
      "text/plain": [
       "\u001b[37m╭─\u001b[0m\u001b[37m────────────────────────────────────────────────────\u001b[0m\u001b[37m 📝 AI \u001b[0m\u001b[37m────────────────────────────────────────────────────\u001b[0m\u001b[37m─╮\u001b[0m\n",
       "\u001b[37m│\u001b[0m I have sufficient information to proceed. I understand that you want to research the best coffee shops in San   \u001b[37m│\u001b[0m\n",
       "\u001b[37m│\u001b[0m Francisco. I will now begin the research process to provide you with the desired information.                   \u001b[37m│\u001b[0m\n",
       "\u001b[37m╰─────────────────────────────────────────────────────────────────────────────────────────────────────────────────╯\u001b[0m\n"
      ]
     },
     "metadata": {},
     "output_type": "display_data"
    }
   ],
   "source": [
    "# Run the workflow\n",
    "from utils import format_messages\n",
    "from langchain_core.messages import HumanMessage\n",
    "thread = {\"configurable\": {\"thread_id\": \"1\"}}\n",
    "result = scope.invoke({\"messages\": [HumanMessage(content=\"I want to research the best coffee shops in San Francisco.\")]}, config=thread)\n",
    "format_messages(result['messages'])"
   ]
  },
  {
   "cell_type": "code",
   "execution_count": 20,
   "id": "06975362",
   "metadata": {},
   "outputs": [
    {
     "name": "stdout",
     "output_type": "stream",
     "text": [
      "As I want to research the best coffee shops in San Francisco, I would like to investigate key attributes such as coffee quality, atmosphere, and customer service, considering all price ranges unless cost constraints are specified, and prioritizing official reviews from sources like Yelp and Google, while also considering social media and blogs for a comprehensive view, without assuming any specific preferences for factors like location, menu offerings, or amenities, and focusing on the city of San Francisco as the primary geographical scope.\n"
     ]
    }
   ],
   "source": [
    "print(result['research_brief'])"
   ]
  },
  {
   "cell_type": "markdown",
   "id": "a6165958",
   "metadata": {},
   "source": [
    "## Define Agent States"
   ]
  },
  {
   "cell_type": "markdown",
   "id": "90b58ea7",
   "metadata": {},
   "source": [
    "## WorkFlow"
   ]
  },
  {
   "cell_type": "markdown",
   "id": "b48d9a8b",
   "metadata": {},
   "source": [
    "call llm -> should continnue -> tool node.  -> back to call llm.  -> compress - > generate output"
   ]
  },
  {
   "cell_type": "code",
   "execution_count": 30,
   "id": "b6e88384",
   "metadata": {},
   "outputs": [],
   "source": [
    "prompt_researcher = \"\"\"\n",
    "You are helpful assistant tasked with doing the research on the following topic\n",
    "\n",
    "<topic>\n",
    "{research_brief}\n",
    "</topic>\n",
    "\n",
    "Research notes uptil now\n",
    "<notes>\n",
    "{notes}\n",
    "</notes>\n",
    "\n",
    "Today's date is {date}\n",
    "\n",
    "You can use search tools at your disposle. When you are done with searche and research kindly acknowledge\n",
    "\n",
    "<Guidelines>\n",
    "1. Start with broader searches and then narrow down your search\n",
    "2. As and when you need more information use search tool to get it\n",
    "3. Do not look for perfection. If you have good enough material you can conclude your research.\n",
    "</Guidelines>\n",
    "\"\"\""
   ]
  },
  {
   "cell_type": "code",
   "execution_count": null,
   "id": "208058e7",
   "metadata": {},
   "outputs": [],
   "source": [
    "summarize_webpage_prompt=\"\"\"\n",
    "You are tasked with summarizing the raw content of the webpage retrieved from a web search.\n",
    "Your goal is to preserve most important information from the webpage.\n",
    "\n",
    "Here is the raw content of the webpage:\n",
    "<webpage_content>\n",
    "{webpage_content}\n",
    "</webpage_content>\n",
    "\n",
    "Please follow these guidelines while creating your summary:\n",
    "\n",
    "1. Identify and preserve the main topic or purpose of the webpage.\n",
    "2. Retain key facts, statistics, and data points that are central to the content's message.\n",
    "3. Keep important quotes from credible sources or experts.\n",
    "4. Maintain the chronological order of events if the content is time-sensitive or historical.\n",
    "5. Preserve any lists or step-by-step instructions if present.\n",
    "6. Include relevant dates, names, and locations that are crucial to understanding the content.\n",
    "7. Summarize lengthy explanations while keeping the core message intact.\n",
    "\n",
    "When handling different types of content:\n",
    "\n",
    "- For news articles: Focus on the who, what, when, where, why, and how.\n",
    "- For scientific content: Preserve methodology, results, and conclusions.\n",
    "- For opinion pieces: Maintain the main arguments and supporting points.\n",
    "- For product pages: Keep key features, specifications, and unique selling points.\n",
    "\n",
    "Your summary should be significantly shorter than the original content but comprehensive enough to stand alone as a source of information. Aim for about 25-30 percent of the original length, unless the content is already concise.\n",
    "\n",
    "Remember, your goal is to create a summary that can be easily understood and utilized by a downstream research agent while preserving the most critical information from the original webpage.\n",
    "\n",
    "Today's date is {date}.\n",
    "\"\"\""
   ]
  },
  {
   "cell_type": "code",
   "execution_count": 45,
   "id": "1179c6d4",
   "metadata": {},
   "outputs": [],
   "source": [
    "from tavily import TavilyClient\n",
    "tavily_client = TavilyClient()"
   ]
  },
  {
   "cell_type": "code",
   "execution_count": null,
   "id": "153af365",
   "metadata": {},
   "outputs": [],
   "source": [
    "def tavily_search_multiple(\n",
    "        search_queries: List[str],\n",
    "        max_results: int = 3,\n",
    "        topic: Literal[\"general\", \"news\", \"finance\"] = \"general\",\n",
    "        include_raw_content: bool = True,\n",
    ") -> List[dict]:\n",
    "    \"\"\"\n",
    "    Performs search using tavily API for multple queries\"\"\"\n",
    "\n",
    "    search_docs = []\n",
    "\n",
    "    for query in search_queries:\n",
    "        result = tavily_client.search(\n",
    "            query,\n",
    "            max_results=max_results,\n",
    "            topic=topic,\n",
    "            include_raw_content=include_raw_content\n",
    "        )\n",
    "        search_docs.append(result)\n",
    "\n",
    "    return search_docs"
   ]
  },
  {
   "cell_type": "code",
   "execution_count": null,
   "id": "fa237e0d",
   "metadata": {},
   "outputs": [],
   "source": [
    "def summarize_webpage_content(webpage_content:str) -> str:\n",
    "    \"\"\"Summarize webpage content using the summarization model.\n",
    "    \n",
    "    Args:\n",
    "        webpage_content: Raw webpage content to be summarized\n",
    "    Returns:\n",
    "        formatted summary with key excerpts\n",
    "    \"\"\"\n",
    "\n",
    "    try:\n",
    "        structured_model = summarization_model.with_structured_output(Summary)\n",
    "\n",
    "        _prompt = summarize_webpage_prompt.format(webpage_content=webpage_content, date=get_today_str())\n",
    "\n",
    "        summary = structured_model.invoke(\n",
    "            [HumanMessage(content=_prompt)]\n",
    "            )\n",
    "        \n",
    "        formatted_summary =(\n",
    "            f\"<summary>\\n{summary.summary}\\n</summary>\\n\\n\"\n",
    "            f\"<key_excerpts>\\n{summary.key_excerpts}\\n</key_excerpts>\"\n",
    "        )\n",
    "\n",
    "        return formatted_summary\n",
    "    \n",
    "    except Exception as e:\n",
    "        print(f\"Failed to summarize webpage: {str(e)}\")\n",
    "        return webpage_content[:1000] + \"...\" if len(webpage_content) > 1000 else webpage_content\n"
   ]
  },
  {
   "cell_type": "code",
   "execution_count": null,
   "id": "3f83077c",
   "metadata": {},
   "outputs": [],
   "source": [
    "def deduplicate_search_results(search_results: List[dict]) -> dict:\n",
    "    \"\"\"Deduplicate search results by URL to avoid processing duplicate content.\n",
    "    \n",
    "    Args:\n",
    "        search_results: List of search result dictionaries\n",
    "        \n",
    "    Returns:\n",
    "        Dictionary mapping URLs to unique results\n",
    "    \"\"\"\n",
    "    unique_results = {}\n",
    "    \n",
    "    for response in search_results:\n",
    "        for result in response['results']:\n",
    "            url = result['url']\n",
    "            if url not in unique_results:\n",
    "                unique_results[url] = result\n",
    "    \n",
    "    return unique_results\n"
   ]
  },
  {
   "cell_type": "code",
   "execution_count": null,
   "id": "052cad53",
   "metadata": {},
   "outputs": [],
   "source": [
    "def process_search_results(unique_results: dict) -> dict:\n",
    "    \"\"\"Process search results by summarizing content where available.\n",
    "    \n",
    "    Args:\n",
    "        unique_results: Dictionary of unique search results\n",
    "        \n",
    "    Returns:\n",
    "        Dictionary of processed results with summaries\n",
    "    \"\"\"\n",
    "    summarized_results = {}\n",
    "    \n",
    "    for url, result in unique_results.items():\n",
    "        # Use existing content if no raw content for summarization\n",
    "        if not result.get(\"raw_content\"):\n",
    "            content = result['content']\n",
    "        else:\n",
    "            # Summarize raw content for better processing\n",
    "            content = summarize_webpage_content(result['raw_content'])\n",
    "        \n",
    "        summarized_results[url] = {\n",
    "            'title': result['title'],\n",
    "            'content': content\n",
    "        }\n",
    "    \n",
    "    return summarized_results"
   ]
  },
  {
   "cell_type": "code",
   "execution_count": null,
   "id": "f9716978",
   "metadata": {},
   "outputs": [],
   "source": [
    "def format_search_output(summarized_results:dict) ->str:\n",
    "    \"\"\"Format Search results into well-strucuted string output\n",
    "    \n",
    "    Args:\n",
    "        summarized_results: Dictionary of processed search results\n",
    "    Returns:\n",
    "        Formatted string of search results with clear source seperation\n",
    "    \"\"\"\n",
    "\n",
    "    if not summarized_results:\n",
    "        return \"No valid search results found. Please try different search queries or use a different search API.\"\n",
    "    \n",
    "    formatted_output = \"Search results: \\n\\n\"\n",
    "\n",
    "    for i, (url, result) in enumerate(summarized_results.items(), 1):\n",
    "        formatted_output += f\"\\n\\n--- SOURCE {i}: {result['title']} ---\\n\"\n",
    "        formatted_output += f\"URL: {url}\\n\\n\"\n",
    "        formatted_output += f\"SUMMRY: \\n{result['content']}\\n\\n\"\n",
    "        formatted_output += \"-\" * 80 + \"\\n\"\n",
    "    return formatted_output"
   ]
  },
  {
   "cell_type": "code",
   "execution_count": 60,
   "id": "f83b1c58",
   "metadata": {},
   "outputs": [],
   "source": [
    "from langchain_core.tools import tool, InjectedToolArg\n",
    "\n",
    "@tool(parse_docstring=True)\n",
    "def tavily_search(\n",
    "    query:str,\n",
    "    max_results: Annotated[int, InjectedToolArg] = 3,\n",
    "    topic: Annotated[Literal[\"general\", \"news\", \"finance\"], InjectedToolArg] = \"general\") ->str:\n",
    "\n",
    "    \"\"\"Fetch results from Tavily search API with content summarization.\n",
    "    \n",
    "    Args:\n",
    "        query: A single search query to execute\n",
    "        max_results: Maximum number of results to return\n",
    "        topic: Topic to filter results by ('general', 'news', finance)\n",
    "\n",
    "    Returns:\n",
    "        Formatted string of search results with summaries\n",
    "    \"\"\"\n",
    "    \n",
    "    search_results = tavily_search_multiple(\n",
    "        [query],\n",
    "        max_results=max_results,\n",
    "        topic =topic,\n",
    "        include_raw_content=True\n",
    "    )\n",
    "    unique_results = deduplicate_search_results(search_results)\n",
    "\n",
    "    summarized_results = process_search_results(unique_results)\n",
    "\n",
    "    return format_search_output(summarized_results)\n",
    "\n",
    "\n",
    "    "
   ]
  },
  {
   "cell_type": "code",
   "execution_count": 61,
   "id": "77a976d0",
   "metadata": {},
   "outputs": [],
   "source": [
    "@tool(parse_docstring=True)\n",
    "def think_tool(reflection: str) -> str:\n",
    "    \"\"\"Tool for strategic reflection on research progress and decision-making.\n",
    "    \n",
    "    Use this tool after each search to analyze results and plan next steps systematically.\n",
    "    This creates a deliberate pause in the research workflow for quality decision-making.\n",
    "    \n",
    "    When to use:\n",
    "    - After receiving search results: What key information did I find?\n",
    "    - Before deciding next steps: Do I have enough to answer comprehensively?\n",
    "    - When assessing research gaps: What specific information am I still missing?\n",
    "    - Before concluding research: Can I provide a complete answer now?\n",
    "    \n",
    "    Reflection should address:\n",
    "    1. Analysis of current findings - What concrete information have I gathered?\n",
    "    2. Gap assessment - What crucial information is still missing?\n",
    "    3. Quality evaluation - Do I have sufficient evidence/examples for a good answer?\n",
    "    4. Strategic decision - Should I continue searching or provide my answer?\n",
    "    \n",
    "    Args:\n",
    "        reflection: Your detailed reflection on research progress, findings, gaps, and next steps\n",
    "        \n",
    "    Returns:\n",
    "        Confirmation that reflection was recorded for decision-making\n",
    "    \"\"\"\n",
    "    return f\"Reflection recorded: {reflection}\"\n"
   ]
  },
  {
   "cell_type": "code",
   "execution_count": null,
   "id": "84023a67",
   "metadata": {},
   "outputs": [],
   "source": [
    "tools = [tavily_search, think_tool]\n",
    "tools_by_name = {tool.name:tool for tool in tools}\n",
    "\n",
    "model_with_tools = model.bind_tools(tools)"
   ]
  },
  {
   "cell_type": "code",
   "execution_count": null,
   "id": "7384911a",
   "metadata": {},
   "outputs": [],
   "source": [
    "def llm_call(state: ResearcherState):\n",
    "\n",
    "    _prompt = prompt_researcher.format(research_brief = state['research_brief'], date = get_today_str(),notes = state['notes'])\n",
    "\n",
    "    response = model_with_tools.invoke([HumanMessage(content=_prompt)])\n",
    "\n",
    "    return {'messages':response}"
   ]
  },
  {
   "cell_type": "code",
   "execution_count": 38,
   "id": "04c0ae03",
   "metadata": {},
   "outputs": [
    {
     "data": {
      "text/plain": [
       "{'messages': AIMessage(content='', additional_kwargs={'tool_calls': [{'id': 'qa4azjsvs', 'function': {'arguments': '{\"query\":\"best coffee shops in San Francisco\"}', 'name': 'search'}, 'type': 'function'}]}, response_metadata={'token_usage': {'completion_tokens': 18, 'prompt_tokens': 491, 'total_tokens': 509, 'completion_time': 0.042795845, 'prompt_time': 0.040819964, 'queue_time': 0.524278595, 'total_time': 0.083615809}, 'model_name': 'llama-3.3-70b-versatile', 'system_fingerprint': 'fp_155ab82e98', 'service_tier': 'on_demand', 'finish_reason': 'tool_calls', 'logprobs': None}, id='run--545256bc-5649-4bde-bf40-73dcf629dcc0-0', tool_calls=[{'name': 'search', 'args': {'query': 'best coffee shops in San Francisco'}, 'id': 'qa4azjsvs', 'type': 'tool_call'}], usage_metadata={'input_tokens': 491, 'output_tokens': 18, 'total_tokens': 509})}"
      ]
     },
     "execution_count": 38,
     "metadata": {},
     "output_type": "execute_result"
    }
   ],
   "source": [
    "llm_call(result)"
   ]
  },
  {
   "cell_type": "code",
   "execution_count": null,
   "id": "b77781c8",
   "metadata": {},
   "outputs": [],
   "source": [
    "def tool_node(state:AgentState):\n",
    "\n",
    "    last_message = state['messages'][-1]\n",
    "\n",
    "    tool - > run thsi tool\n",
    "\n",
    "    return {\n",
    "        \"messages\":response\n",
    "    }"
   ]
  },
  {
   "cell_type": "code",
   "execution_count": null,
   "id": "404ec1b9",
   "metadata": {},
   "outputs": [],
   "source": [
    "def should_continue(state:AgentState):\n",
    "\n",
    "    #check last message if its is tool call\n",
    "\n",
    "    last_message = state['messages'][-1]\n",
    "\n",
    "    if hasattr(last_message, \"tool_calls\") and len(last_message.tool_calls) > 0:\n",
    "        return \"tools\"\n",
    "    else:\n",
    "        return \"compress_research\""
   ]
  },
  {
   "cell_type": "code",
   "execution_count": null,
   "id": "84a049c2",
   "metadata": {},
   "outputs": [],
   "source": []
  },
  {
   "cell_type": "code",
   "execution_count": 36,
   "id": "8e7f27df",
   "metadata": {},
   "outputs": [
    {
     "data": {
      "text/plain": [
       "AIMessage(content='I have sufficient information to proceed. I understand that you want to research the best coffee shops in San Francisco. I will now begin the research process to provide you with the desired information.', additional_kwargs={}, response_metadata={}, id='4d817856-b21e-4269-9dc2-8a6d1715a150')"
      ]
     },
     "execution_count": 36,
     "metadata": {},
     "output_type": "execute_result"
    }
   ],
   "source": [
    "result['messages'][-1]"
   ]
  },
  {
   "cell_type": "code",
   "execution_count": null,
   "id": "d6bf2068",
   "metadata": {},
   "outputs": [],
   "source": []
  }
 ],
 "metadata": {
  "kernelspec": {
   "display_name": "Python 3",
   "language": "python",
   "name": "python3"
  },
  "language_info": {
   "codemirror_mode": {
    "name": "ipython",
    "version": 3
   },
   "file_extension": ".py",
   "mimetype": "text/x-python",
   "name": "python",
   "nbconvert_exporter": "python",
   "pygments_lexer": "ipython3",
   "version": "3.12.11"
  }
 },
 "nbformat": 4,
 "nbformat_minor": 5
}
